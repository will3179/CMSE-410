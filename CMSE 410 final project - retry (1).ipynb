{
 "cells": [
  {
   "cell_type": "code",
   "execution_count": 51,
   "metadata": {},
   "outputs": [],
   "source": [
    "import pandas as pd\n",
    "import numpy as np\n",
    "import matplotlib.pyplot as plt\n",
    "from sklearn.linear_model import LogisticRegression"
   ]
  },
  {
   "cell_type": "code",
   "execution_count": 52,
   "metadata": {},
   "outputs": [],
   "source": [
    "# read training data\n",
    "FNC_train = pd.read_csv(\"train_FNC.csv\")\n",
    "labels_train = pd.read_csv(\"train_labels.csv\")\n",
    "SBM_train = pd.read_csv(\"train_SBM.csv\")"
   ]
  },
  {
   "cell_type": "code",
   "execution_count": 53,
   "metadata": {
    "scrolled": true
   },
   "outputs": [
    {
     "data": {
      "text/html": [
       "<div>\n",
       "<style scoped>\n",
       "    .dataframe tbody tr th:only-of-type {\n",
       "        vertical-align: middle;\n",
       "    }\n",
       "\n",
       "    .dataframe tbody tr th {\n",
       "        vertical-align: top;\n",
       "    }\n",
       "\n",
       "    .dataframe thead th {\n",
       "        text-align: right;\n",
       "    }\n",
       "</style>\n",
       "<table border=\"1\" class=\"dataframe\">\n",
       "  <thead>\n",
       "    <tr style=\"text-align: right;\">\n",
       "      <th></th>\n",
       "      <th>Id</th>\n",
       "      <th>FNC1</th>\n",
       "      <th>FNC2</th>\n",
       "      <th>FNC3</th>\n",
       "      <th>FNC4</th>\n",
       "      <th>FNC5</th>\n",
       "      <th>FNC6</th>\n",
       "      <th>FNC7</th>\n",
       "      <th>FNC8</th>\n",
       "      <th>FNC9</th>\n",
       "      <th>...</th>\n",
       "      <th>FNC369</th>\n",
       "      <th>FNC370</th>\n",
       "      <th>FNC371</th>\n",
       "      <th>FNC372</th>\n",
       "      <th>FNC373</th>\n",
       "      <th>FNC374</th>\n",
       "      <th>FNC375</th>\n",
       "      <th>FNC376</th>\n",
       "      <th>FNC377</th>\n",
       "      <th>FNC378</th>\n",
       "    </tr>\n",
       "  </thead>\n",
       "  <tbody>\n",
       "    <tr>\n",
       "      <th>0</th>\n",
       "      <td>120873</td>\n",
       "      <td>0.34312</td>\n",
       "      <td>0.045761</td>\n",
       "      <td>-0.13112</td>\n",
       "      <td>0.15034</td>\n",
       "      <td>0.18082</td>\n",
       "      <td>0.289160</td>\n",
       "      <td>0.069545</td>\n",
       "      <td>-0.052489</td>\n",
       "      <td>0.124000</td>\n",
       "      <td>...</td>\n",
       "      <td>0.18743</td>\n",
       "      <td>0.163770</td>\n",
       "      <td>0.17686</td>\n",
       "      <td>0.074728</td>\n",
       "      <td>0.148600</td>\n",
       "      <td>0.343230</td>\n",
       "      <td>0.17565</td>\n",
       "      <td>0.52035</td>\n",
       "      <td>0.030613</td>\n",
       "      <td>0.30774</td>\n",
       "    </tr>\n",
       "    <tr>\n",
       "      <th>1</th>\n",
       "      <td>135376</td>\n",
       "      <td>0.28790</td>\n",
       "      <td>0.102570</td>\n",
       "      <td>-0.32343</td>\n",
       "      <td>-0.22776</td>\n",
       "      <td>0.12328</td>\n",
       "      <td>0.367020</td>\n",
       "      <td>-0.084040</td>\n",
       "      <td>0.038793</td>\n",
       "      <td>-0.006287</td>\n",
       "      <td>...</td>\n",
       "      <td>0.59834</td>\n",
       "      <td>-0.477880</td>\n",
       "      <td>0.26634</td>\n",
       "      <td>0.582940</td>\n",
       "      <td>-0.041272</td>\n",
       "      <td>0.630050</td>\n",
       "      <td>0.70314</td>\n",
       "      <td>0.36383</td>\n",
       "      <td>-0.207880</td>\n",
       "      <td>0.64138</td>\n",
       "    </tr>\n",
       "    <tr>\n",
       "      <th>2</th>\n",
       "      <td>139149</td>\n",
       "      <td>0.24585</td>\n",
       "      <td>0.216620</td>\n",
       "      <td>-0.12468</td>\n",
       "      <td>-0.35380</td>\n",
       "      <td>0.16150</td>\n",
       "      <td>-0.002032</td>\n",
       "      <td>-0.133020</td>\n",
       "      <td>-0.035222</td>\n",
       "      <td>0.259040</td>\n",
       "      <td>...</td>\n",
       "      <td>0.22866</td>\n",
       "      <td>-0.000816</td>\n",
       "      <td>0.25860</td>\n",
       "      <td>0.280450</td>\n",
       "      <td>-0.644640</td>\n",
       "      <td>0.332440</td>\n",
       "      <td>0.87074</td>\n",
       "      <td>-0.10973</td>\n",
       "      <td>-0.679160</td>\n",
       "      <td>0.32316</td>\n",
       "    </tr>\n",
       "    <tr>\n",
       "      <th>3</th>\n",
       "      <td>146791</td>\n",
       "      <td>0.42090</td>\n",
       "      <td>0.331380</td>\n",
       "      <td>0.24453</td>\n",
       "      <td>0.17167</td>\n",
       "      <td>0.59223</td>\n",
       "      <td>0.431050</td>\n",
       "      <td>0.280290</td>\n",
       "      <td>0.289620</td>\n",
       "      <td>0.356800</td>\n",
       "      <td>...</td>\n",
       "      <td>0.42881</td>\n",
       "      <td>0.711570</td>\n",
       "      <td>0.56593</td>\n",
       "      <td>0.248560</td>\n",
       "      <td>0.153860</td>\n",
       "      <td>0.093171</td>\n",
       "      <td>0.62556</td>\n",
       "      <td>0.60391</td>\n",
       "      <td>-0.058301</td>\n",
       "      <td>0.10779</td>\n",
       "    </tr>\n",
       "    <tr>\n",
       "      <th>4</th>\n",
       "      <td>153870</td>\n",
       "      <td>-0.14621</td>\n",
       "      <td>-0.468630</td>\n",
       "      <td>-0.52880</td>\n",
       "      <td>-0.50381</td>\n",
       "      <td>-0.51052</td>\n",
       "      <td>-0.029113</td>\n",
       "      <td>-0.015192</td>\n",
       "      <td>0.360170</td>\n",
       "      <td>0.005944</td>\n",
       "      <td>...</td>\n",
       "      <td>0.41688</td>\n",
       "      <td>-0.435600</td>\n",
       "      <td>0.32104</td>\n",
       "      <td>0.392960</td>\n",
       "      <td>-0.842430</td>\n",
       "      <td>0.425080</td>\n",
       "      <td>0.86509</td>\n",
       "      <td>-0.31281</td>\n",
       "      <td>-0.829640</td>\n",
       "      <td>0.24307</td>\n",
       "    </tr>\n",
       "  </tbody>\n",
       "</table>\n",
       "<p>5 rows × 379 columns</p>\n",
       "</div>"
      ],
      "text/plain": [
       "       Id     FNC1      FNC2     FNC3     FNC4     FNC5      FNC6      FNC7  \\\n",
       "0  120873  0.34312  0.045761 -0.13112  0.15034  0.18082  0.289160  0.069545   \n",
       "1  135376  0.28790  0.102570 -0.32343 -0.22776  0.12328  0.367020 -0.084040   \n",
       "2  139149  0.24585  0.216620 -0.12468 -0.35380  0.16150 -0.002032 -0.133020   \n",
       "3  146791  0.42090  0.331380  0.24453  0.17167  0.59223  0.431050  0.280290   \n",
       "4  153870 -0.14621 -0.468630 -0.52880 -0.50381 -0.51052 -0.029113 -0.015192   \n",
       "\n",
       "       FNC8      FNC9  ...   FNC369    FNC370   FNC371    FNC372    FNC373  \\\n",
       "0 -0.052489  0.124000  ...  0.18743  0.163770  0.17686  0.074728  0.148600   \n",
       "1  0.038793 -0.006287  ...  0.59834 -0.477880  0.26634  0.582940 -0.041272   \n",
       "2 -0.035222  0.259040  ...  0.22866 -0.000816  0.25860  0.280450 -0.644640   \n",
       "3  0.289620  0.356800  ...  0.42881  0.711570  0.56593  0.248560  0.153860   \n",
       "4  0.360170  0.005944  ...  0.41688 -0.435600  0.32104  0.392960 -0.842430   \n",
       "\n",
       "     FNC374   FNC375   FNC376    FNC377   FNC378  \n",
       "0  0.343230  0.17565  0.52035  0.030613  0.30774  \n",
       "1  0.630050  0.70314  0.36383 -0.207880  0.64138  \n",
       "2  0.332440  0.87074 -0.10973 -0.679160  0.32316  \n",
       "3  0.093171  0.62556  0.60391 -0.058301  0.10779  \n",
       "4  0.425080  0.86509 -0.31281 -0.829640  0.24307  \n",
       "\n",
       "[5 rows x 379 columns]"
      ]
     },
     "execution_count": 53,
     "metadata": {},
     "output_type": "execute_result"
    }
   ],
   "source": [
    "FNC_train.head()"
   ]
  },
  {
   "cell_type": "code",
   "execution_count": 54,
   "metadata": {},
   "outputs": [
    {
     "data": {
      "text/html": [
       "<div>\n",
       "<style scoped>\n",
       "    .dataframe tbody tr th:only-of-type {\n",
       "        vertical-align: middle;\n",
       "    }\n",
       "\n",
       "    .dataframe tbody tr th {\n",
       "        vertical-align: top;\n",
       "    }\n",
       "\n",
       "    .dataframe thead th {\n",
       "        text-align: right;\n",
       "    }\n",
       "</style>\n",
       "<table border=\"1\" class=\"dataframe\">\n",
       "  <thead>\n",
       "    <tr style=\"text-align: right;\">\n",
       "      <th></th>\n",
       "      <th>Id</th>\n",
       "      <th>SBM_map1</th>\n",
       "      <th>SBM_map2</th>\n",
       "      <th>SBM_map3</th>\n",
       "      <th>SBM_map4</th>\n",
       "      <th>SBM_map5</th>\n",
       "      <th>SBM_map6</th>\n",
       "      <th>SBM_map7</th>\n",
       "      <th>SBM_map8</th>\n",
       "      <th>SBM_map10</th>\n",
       "      <th>...</th>\n",
       "      <th>SBM_map55</th>\n",
       "      <th>SBM_map61</th>\n",
       "      <th>SBM_map64</th>\n",
       "      <th>SBM_map67</th>\n",
       "      <th>SBM_map69</th>\n",
       "      <th>SBM_map71</th>\n",
       "      <th>SBM_map72</th>\n",
       "      <th>SBM_map73</th>\n",
       "      <th>SBM_map74</th>\n",
       "      <th>SBM_map75</th>\n",
       "    </tr>\n",
       "  </thead>\n",
       "  <tbody>\n",
       "    <tr>\n",
       "      <th>0</th>\n",
       "      <td>120873</td>\n",
       "      <td>0.725065</td>\n",
       "      <td>-0.639254</td>\n",
       "      <td>0.353069</td>\n",
       "      <td>-0.981707</td>\n",
       "      <td>-1.419971</td>\n",
       "      <td>-0.441321</td>\n",
       "      <td>-0.264192</td>\n",
       "      <td>0.711579</td>\n",
       "      <td>0.641798</td>\n",
       "      <td>...</td>\n",
       "      <td>-0.078220</td>\n",
       "      <td>-0.982331</td>\n",
       "      <td>1.070363</td>\n",
       "      <td>0.220316</td>\n",
       "      <td>0.776855</td>\n",
       "      <td>-2.022404</td>\n",
       "      <td>1.203256</td>\n",
       "      <td>1.083516</td>\n",
       "      <td>0.564201</td>\n",
       "      <td>-0.002006</td>\n",
       "    </tr>\n",
       "    <tr>\n",
       "      <th>1</th>\n",
       "      <td>135376</td>\n",
       "      <td>-1.328855</td>\n",
       "      <td>0.502970</td>\n",
       "      <td>0.013232</td>\n",
       "      <td>1.128496</td>\n",
       "      <td>-0.070738</td>\n",
       "      <td>0.398476</td>\n",
       "      <td>-0.466051</td>\n",
       "      <td>-0.435455</td>\n",
       "      <td>0.342847</td>\n",
       "      <td>...</td>\n",
       "      <td>0.989571</td>\n",
       "      <td>-0.057543</td>\n",
       "      <td>0.371701</td>\n",
       "      <td>-0.513081</td>\n",
       "      <td>-0.457550</td>\n",
       "      <td>1.476216</td>\n",
       "      <td>0.381052</td>\n",
       "      <td>0.163436</td>\n",
       "      <td>0.403782</td>\n",
       "      <td>-0.295125</td>\n",
       "    </tr>\n",
       "    <tr>\n",
       "      <th>2</th>\n",
       "      <td>139149</td>\n",
       "      <td>0.732268</td>\n",
       "      <td>-1.241554</td>\n",
       "      <td>0.654942</td>\n",
       "      <td>-0.289216</td>\n",
       "      <td>0.158316</td>\n",
       "      <td>0.029165</td>\n",
       "      <td>1.439242</td>\n",
       "      <td>-0.832816</td>\n",
       "      <td>1.285468</td>\n",
       "      <td>...</td>\n",
       "      <td>-0.257114</td>\n",
       "      <td>0.597229</td>\n",
       "      <td>1.220756</td>\n",
       "      <td>-0.059213</td>\n",
       "      <td>-0.435494</td>\n",
       "      <td>-0.092971</td>\n",
       "      <td>1.090910</td>\n",
       "      <td>-0.448562</td>\n",
       "      <td>-0.508497</td>\n",
       "      <td>0.350434</td>\n",
       "    </tr>\n",
       "    <tr>\n",
       "      <th>3</th>\n",
       "      <td>146791</td>\n",
       "      <td>-0.343917</td>\n",
       "      <td>-1.052519</td>\n",
       "      <td>-1.150521</td>\n",
       "      <td>0.765989</td>\n",
       "      <td>0.923129</td>\n",
       "      <td>0.674052</td>\n",
       "      <td>-0.492673</td>\n",
       "      <td>1.282388</td>\n",
       "      <td>-1.914583</td>\n",
       "      <td>...</td>\n",
       "      <td>-0.295110</td>\n",
       "      <td>0.829697</td>\n",
       "      <td>-0.450726</td>\n",
       "      <td>-0.791032</td>\n",
       "      <td>-1.115821</td>\n",
       "      <td>-0.022296</td>\n",
       "      <td>-0.245844</td>\n",
       "      <td>-0.705539</td>\n",
       "      <td>0.061344</td>\n",
       "      <td>0.448966</td>\n",
       "    </tr>\n",
       "    <tr>\n",
       "      <th>4</th>\n",
       "      <td>153870</td>\n",
       "      <td>-0.208685</td>\n",
       "      <td>-0.562697</td>\n",
       "      <td>-0.362164</td>\n",
       "      <td>1.025571</td>\n",
       "      <td>0.151690</td>\n",
       "      <td>-0.130410</td>\n",
       "      <td>-1.105922</td>\n",
       "      <td>0.502029</td>\n",
       "      <td>-0.097735</td>\n",
       "      <td>...</td>\n",
       "      <td>1.342273</td>\n",
       "      <td>-0.978412</td>\n",
       "      <td>0.158492</td>\n",
       "      <td>0.889753</td>\n",
       "      <td>0.795368</td>\n",
       "      <td>0.738788</td>\n",
       "      <td>0.475415</td>\n",
       "      <td>2.340384</td>\n",
       "      <td>2.516038</td>\n",
       "      <td>-0.551440</td>\n",
       "    </tr>\n",
       "  </tbody>\n",
       "</table>\n",
       "<p>5 rows × 33 columns</p>\n",
       "</div>"
      ],
      "text/plain": [
       "       Id  SBM_map1  SBM_map2  SBM_map3  SBM_map4  SBM_map5  SBM_map6  \\\n",
       "0  120873  0.725065 -0.639254  0.353069 -0.981707 -1.419971 -0.441321   \n",
       "1  135376 -1.328855  0.502970  0.013232  1.128496 -0.070738  0.398476   \n",
       "2  139149  0.732268 -1.241554  0.654942 -0.289216  0.158316  0.029165   \n",
       "3  146791 -0.343917 -1.052519 -1.150521  0.765989  0.923129  0.674052   \n",
       "4  153870 -0.208685 -0.562697 -0.362164  1.025571  0.151690 -0.130410   \n",
       "\n",
       "   SBM_map7  SBM_map8  SBM_map10  ...  SBM_map55  SBM_map61  SBM_map64  \\\n",
       "0 -0.264192  0.711579   0.641798  ...  -0.078220  -0.982331   1.070363   \n",
       "1 -0.466051 -0.435455   0.342847  ...   0.989571  -0.057543   0.371701   \n",
       "2  1.439242 -0.832816   1.285468  ...  -0.257114   0.597229   1.220756   \n",
       "3 -0.492673  1.282388  -1.914583  ...  -0.295110   0.829697  -0.450726   \n",
       "4 -1.105922  0.502029  -0.097735  ...   1.342273  -0.978412   0.158492   \n",
       "\n",
       "   SBM_map67  SBM_map69  SBM_map71  SBM_map72  SBM_map73  SBM_map74  SBM_map75  \n",
       "0   0.220316   0.776855  -2.022404   1.203256   1.083516   0.564201  -0.002006  \n",
       "1  -0.513081  -0.457550   1.476216   0.381052   0.163436   0.403782  -0.295125  \n",
       "2  -0.059213  -0.435494  -0.092971   1.090910  -0.448562  -0.508497   0.350434  \n",
       "3  -0.791032  -1.115821  -0.022296  -0.245844  -0.705539   0.061344   0.448966  \n",
       "4   0.889753   0.795368   0.738788   0.475415   2.340384   2.516038  -0.551440  \n",
       "\n",
       "[5 rows x 33 columns]"
      ]
     },
     "execution_count": 54,
     "metadata": {},
     "output_type": "execute_result"
    }
   ],
   "source": [
    "SBM_train.head()"
   ]
  },
  {
   "cell_type": "code",
   "execution_count": 55,
   "metadata": {},
   "outputs": [
    {
     "data": {
      "text/html": [
       "<div>\n",
       "<style scoped>\n",
       "    .dataframe tbody tr th:only-of-type {\n",
       "        vertical-align: middle;\n",
       "    }\n",
       "\n",
       "    .dataframe tbody tr th {\n",
       "        vertical-align: top;\n",
       "    }\n",
       "\n",
       "    .dataframe thead th {\n",
       "        text-align: right;\n",
       "    }\n",
       "</style>\n",
       "<table border=\"1\" class=\"dataframe\">\n",
       "  <thead>\n",
       "    <tr style=\"text-align: right;\">\n",
       "      <th></th>\n",
       "      <th>Id</th>\n",
       "      <th>Class</th>\n",
       "    </tr>\n",
       "  </thead>\n",
       "  <tbody>\n",
       "    <tr>\n",
       "      <th>0</th>\n",
       "      <td>120873</td>\n",
       "      <td>1</td>\n",
       "    </tr>\n",
       "    <tr>\n",
       "      <th>1</th>\n",
       "      <td>135376</td>\n",
       "      <td>0</td>\n",
       "    </tr>\n",
       "    <tr>\n",
       "      <th>2</th>\n",
       "      <td>139149</td>\n",
       "      <td>0</td>\n",
       "    </tr>\n",
       "    <tr>\n",
       "      <th>3</th>\n",
       "      <td>146791</td>\n",
       "      <td>0</td>\n",
       "    </tr>\n",
       "    <tr>\n",
       "      <th>4</th>\n",
       "      <td>153870</td>\n",
       "      <td>1</td>\n",
       "    </tr>\n",
       "  </tbody>\n",
       "</table>\n",
       "</div>"
      ],
      "text/plain": [
       "       Id  Class\n",
       "0  120873      1\n",
       "1  135376      0\n",
       "2  139149      0\n",
       "3  146791      0\n",
       "4  153870      1"
      ]
     },
     "execution_count": 55,
     "metadata": {},
     "output_type": "execute_result"
    }
   ],
   "source": [
    "labels_train.head()"
   ]
  },
  {
   "cell_type": "code",
   "execution_count": 56,
   "metadata": {
    "scrolled": false
   },
   "outputs": [
    {
     "name": "stdout",
     "output_type": "stream",
     "text": [
      "0     1\n",
      "1     0\n",
      "2     0\n",
      "3     0\n",
      "4     1\n",
      "     ..\n",
      "81    0\n",
      "82    0\n",
      "83    1\n",
      "84    0\n",
      "85    1\n",
      "Name: Class, Length: 86, dtype: int64\n"
     ]
    }
   ],
   "source": [
    "print(labels_train[\"Class\"])"
   ]
  },
  {
   "cell_type": "code",
   "execution_count": 57,
   "metadata": {
    "scrolled": false
   },
   "outputs": [
    {
     "name": "stdout",
     "output_type": "stream",
     "text": [
      "number of labels:  86\n",
      "number of FNC rows:  86\n",
      "number of SBM rows:  86\n"
     ]
    }
   ],
   "source": [
    "# checking data is same size\n",
    "print(\"number of labels: \", len(labels_train))\n",
    "print(\"number of FNC rows: \", len(FNC_train))\n",
    "print(\"number of SBM rows: \", len(SBM_train))"
   ]
  },
  {
   "cell_type": "markdown",
   "metadata": {},
   "source": [
    "FNC"
   ]
  },
  {
   "cell_type": "code",
   "execution_count": 58,
   "metadata": {},
   "outputs": [
    {
     "data": {
      "text/plain": [
       "LogisticRegression()"
      ]
     },
     "execution_count": 58,
     "metadata": {},
     "output_type": "execute_result"
    }
   ],
   "source": [
    "# train model\n",
    "log_reg = LogisticRegression(solver = 'lbfgs')\n",
    "log_reg.fit(FNC_train, labels_train[\"Class\"])"
   ]
  },
  {
   "cell_type": "code",
   "execution_count": 59,
   "metadata": {},
   "outputs": [
    {
     "name": "stdout",
     "output_type": "stream",
     "text": [
      "[0 0 0 ... 0 0 0]\n"
     ]
    }
   ],
   "source": [
    "# predictions\n",
    "class_prediction = log_reg.predict(FNC_test)\n",
    "print(class_prediction)"
   ]
  },
  {
   "cell_type": "code",
   "execution_count": 60,
   "metadata": {},
   "outputs": [
    {
     "data": {
      "text/plain": [
       "0.5348837209302325"
      ]
     },
     "execution_count": 60,
     "metadata": {},
     "output_type": "execute_result"
    }
   ],
   "source": [
    "# score model\n",
    "# every time that the score is greater than 0.5, put in class 1, and scores less than 0.5 pu in class 0\n",
    "# count every time that prediction is equal to output and divide by total \n",
    "log_reg.score(FNC_train, labels_train[\"Class\"])"
   ]
  },
  {
   "cell_type": "markdown",
   "metadata": {},
   "source": [
    "SBM"
   ]
  },
  {
   "cell_type": "code",
   "execution_count": 65,
   "metadata": {},
   "outputs": [
    {
     "data": {
      "text/plain": [
       "LogisticRegression()"
      ]
     },
     "execution_count": 65,
     "metadata": {},
     "output_type": "execute_result"
    }
   ],
   "source": [
    "# logistic regression\n",
    "log_reg2 = LogisticRegression()\n",
    "log_reg2.fit(SBM_train, labels_train[\"Class\"])"
   ]
  },
  {
   "cell_type": "code",
   "execution_count": 66,
   "metadata": {},
   "outputs": [
    {
     "name": "stdout",
     "output_type": "stream",
     "text": [
      "[0 0 0 ... 0 0 0]\n"
     ]
    }
   ],
   "source": [
    "class_prediction = log_reg2.predict(SBM_test)\n",
    "print(class_prediction)"
   ]
  },
  {
   "cell_type": "code",
   "execution_count": 68,
   "metadata": {},
   "outputs": [
    {
     "ename": "ValueError",
     "evalue": "Found input variables with inconsistent numbers of samples: [86, 119748]",
     "output_type": "error",
     "traceback": [
      "\u001b[1;31m---------------------------------------------------------------------------\u001b[0m",
      "\u001b[1;31mValueError\u001b[0m                                Traceback (most recent call last)",
      "\u001b[1;32m<ipython-input-68-3c5c0f82faf5>\u001b[0m in \u001b[0;36m<module>\u001b[1;34m\u001b[0m\n\u001b[0;32m      2\u001b[0m \u001b[1;31m# every time that the score is greater than 0.5, put in class 1, and scores less than 0.5 pu in class 0\u001b[0m\u001b[1;33m\u001b[0m\u001b[1;33m\u001b[0m\u001b[1;33m\u001b[0m\u001b[0m\n\u001b[0;32m      3\u001b[0m \u001b[1;31m# count every time that prediction is equal to output and divide by total\u001b[0m\u001b[1;33m\u001b[0m\u001b[1;33m\u001b[0m\u001b[1;33m\u001b[0m\u001b[0m\n\u001b[1;32m----> 4\u001b[1;33m \u001b[0mlog_reg2\u001b[0m\u001b[1;33m.\u001b[0m\u001b[0mscore\u001b[0m\u001b[1;33m(\u001b[0m\u001b[0mSBM_test\u001b[0m\u001b[1;33m,\u001b[0m \u001b[0mlabels_train\u001b[0m\u001b[1;33m[\u001b[0m\u001b[1;34m\"Class\"\u001b[0m\u001b[1;33m]\u001b[0m\u001b[1;33m)\u001b[0m\u001b[1;33m\u001b[0m\u001b[1;33m\u001b[0m\u001b[0m\n\u001b[0m",
      "\u001b[1;32m~\\Documents\\proj2 440\\lib\\site-packages\\sklearn\\base.py\u001b[0m in \u001b[0;36mscore\u001b[1;34m(self, X, y, sample_weight)\u001b[0m\n\u001b[0;32m    497\u001b[0m         \"\"\"\n\u001b[0;32m    498\u001b[0m         \u001b[1;32mfrom\u001b[0m \u001b[1;33m.\u001b[0m\u001b[0mmetrics\u001b[0m \u001b[1;32mimport\u001b[0m \u001b[0maccuracy_score\u001b[0m\u001b[1;33m\u001b[0m\u001b[1;33m\u001b[0m\u001b[0m\n\u001b[1;32m--> 499\u001b[1;33m         \u001b[1;32mreturn\u001b[0m \u001b[0maccuracy_score\u001b[0m\u001b[1;33m(\u001b[0m\u001b[0my\u001b[0m\u001b[1;33m,\u001b[0m \u001b[0mself\u001b[0m\u001b[1;33m.\u001b[0m\u001b[0mpredict\u001b[0m\u001b[1;33m(\u001b[0m\u001b[0mX\u001b[0m\u001b[1;33m)\u001b[0m\u001b[1;33m,\u001b[0m \u001b[0msample_weight\u001b[0m\u001b[1;33m=\u001b[0m\u001b[0msample_weight\u001b[0m\u001b[1;33m)\u001b[0m\u001b[1;33m\u001b[0m\u001b[1;33m\u001b[0m\u001b[0m\n\u001b[0m\u001b[0;32m    500\u001b[0m \u001b[1;33m\u001b[0m\u001b[0m\n\u001b[0;32m    501\u001b[0m     \u001b[1;32mdef\u001b[0m \u001b[0m_more_tags\u001b[0m\u001b[1;33m(\u001b[0m\u001b[0mself\u001b[0m\u001b[1;33m)\u001b[0m\u001b[1;33m:\u001b[0m\u001b[1;33m\u001b[0m\u001b[1;33m\u001b[0m\u001b[0m\n",
      "\u001b[1;32m~\\Documents\\proj2 440\\lib\\site-packages\\sklearn\\utils\\validation.py\u001b[0m in \u001b[0;36minner_f\u001b[1;34m(*args, **kwargs)\u001b[0m\n\u001b[0;32m     71\u001b[0m                           FutureWarning)\n\u001b[0;32m     72\u001b[0m         \u001b[0mkwargs\u001b[0m\u001b[1;33m.\u001b[0m\u001b[0mupdate\u001b[0m\u001b[1;33m(\u001b[0m\u001b[1;33m{\u001b[0m\u001b[0mk\u001b[0m\u001b[1;33m:\u001b[0m \u001b[0marg\u001b[0m \u001b[1;32mfor\u001b[0m \u001b[0mk\u001b[0m\u001b[1;33m,\u001b[0m \u001b[0marg\u001b[0m \u001b[1;32min\u001b[0m \u001b[0mzip\u001b[0m\u001b[1;33m(\u001b[0m\u001b[0msig\u001b[0m\u001b[1;33m.\u001b[0m\u001b[0mparameters\u001b[0m\u001b[1;33m,\u001b[0m \u001b[0margs\u001b[0m\u001b[1;33m)\u001b[0m\u001b[1;33m}\u001b[0m\u001b[1;33m)\u001b[0m\u001b[1;33m\u001b[0m\u001b[1;33m\u001b[0m\u001b[0m\n\u001b[1;32m---> 73\u001b[1;33m         \u001b[1;32mreturn\u001b[0m \u001b[0mf\u001b[0m\u001b[1;33m(\u001b[0m\u001b[1;33m**\u001b[0m\u001b[0mkwargs\u001b[0m\u001b[1;33m)\u001b[0m\u001b[1;33m\u001b[0m\u001b[1;33m\u001b[0m\u001b[0m\n\u001b[0m\u001b[0;32m     74\u001b[0m     \u001b[1;32mreturn\u001b[0m \u001b[0minner_f\u001b[0m\u001b[1;33m\u001b[0m\u001b[1;33m\u001b[0m\u001b[0m\n\u001b[0;32m     75\u001b[0m \u001b[1;33m\u001b[0m\u001b[0m\n",
      "\u001b[1;32m~\\Documents\\proj2 440\\lib\\site-packages\\sklearn\\metrics\\_classification.py\u001b[0m in \u001b[0;36maccuracy_score\u001b[1;34m(y_true, y_pred, normalize, sample_weight)\u001b[0m\n\u001b[0;32m    185\u001b[0m \u001b[1;33m\u001b[0m\u001b[0m\n\u001b[0;32m    186\u001b[0m     \u001b[1;31m# Compute accuracy for each possible representation\u001b[0m\u001b[1;33m\u001b[0m\u001b[1;33m\u001b[0m\u001b[1;33m\u001b[0m\u001b[0m\n\u001b[1;32m--> 187\u001b[1;33m     \u001b[0my_type\u001b[0m\u001b[1;33m,\u001b[0m \u001b[0my_true\u001b[0m\u001b[1;33m,\u001b[0m \u001b[0my_pred\u001b[0m \u001b[1;33m=\u001b[0m \u001b[0m_check_targets\u001b[0m\u001b[1;33m(\u001b[0m\u001b[0my_true\u001b[0m\u001b[1;33m,\u001b[0m \u001b[0my_pred\u001b[0m\u001b[1;33m)\u001b[0m\u001b[1;33m\u001b[0m\u001b[1;33m\u001b[0m\u001b[0m\n\u001b[0m\u001b[0;32m    188\u001b[0m     \u001b[0mcheck_consistent_length\u001b[0m\u001b[1;33m(\u001b[0m\u001b[0my_true\u001b[0m\u001b[1;33m,\u001b[0m \u001b[0my_pred\u001b[0m\u001b[1;33m,\u001b[0m \u001b[0msample_weight\u001b[0m\u001b[1;33m)\u001b[0m\u001b[1;33m\u001b[0m\u001b[1;33m\u001b[0m\u001b[0m\n\u001b[0;32m    189\u001b[0m     \u001b[1;32mif\u001b[0m \u001b[0my_type\u001b[0m\u001b[1;33m.\u001b[0m\u001b[0mstartswith\u001b[0m\u001b[1;33m(\u001b[0m\u001b[1;34m'multilabel'\u001b[0m\u001b[1;33m)\u001b[0m\u001b[1;33m:\u001b[0m\u001b[1;33m\u001b[0m\u001b[1;33m\u001b[0m\u001b[0m\n",
      "\u001b[1;32m~\\Documents\\proj2 440\\lib\\site-packages\\sklearn\\metrics\\_classification.py\u001b[0m in \u001b[0;36m_check_targets\u001b[1;34m(y_true, y_pred)\u001b[0m\n\u001b[0;32m     79\u001b[0m     \u001b[0my_pred\u001b[0m \u001b[1;33m:\u001b[0m \u001b[0marray\u001b[0m \u001b[1;32mor\u001b[0m \u001b[0mindicator\u001b[0m \u001b[0mmatrix\u001b[0m\u001b[1;33m\u001b[0m\u001b[1;33m\u001b[0m\u001b[0m\n\u001b[0;32m     80\u001b[0m     \"\"\"\n\u001b[1;32m---> 81\u001b[1;33m     \u001b[0mcheck_consistent_length\u001b[0m\u001b[1;33m(\u001b[0m\u001b[0my_true\u001b[0m\u001b[1;33m,\u001b[0m \u001b[0my_pred\u001b[0m\u001b[1;33m)\u001b[0m\u001b[1;33m\u001b[0m\u001b[1;33m\u001b[0m\u001b[0m\n\u001b[0m\u001b[0;32m     82\u001b[0m     \u001b[0mtype_true\u001b[0m \u001b[1;33m=\u001b[0m \u001b[0mtype_of_target\u001b[0m\u001b[1;33m(\u001b[0m\u001b[0my_true\u001b[0m\u001b[1;33m)\u001b[0m\u001b[1;33m\u001b[0m\u001b[1;33m\u001b[0m\u001b[0m\n\u001b[0;32m     83\u001b[0m     \u001b[0mtype_pred\u001b[0m \u001b[1;33m=\u001b[0m \u001b[0mtype_of_target\u001b[0m\u001b[1;33m(\u001b[0m\u001b[0my_pred\u001b[0m\u001b[1;33m)\u001b[0m\u001b[1;33m\u001b[0m\u001b[1;33m\u001b[0m\u001b[0m\n",
      "\u001b[1;32m~\\Documents\\proj2 440\\lib\\site-packages\\sklearn\\utils\\validation.py\u001b[0m in \u001b[0;36mcheck_consistent_length\u001b[1;34m(*arrays)\u001b[0m\n\u001b[0;32m    254\u001b[0m     \u001b[0muniques\u001b[0m \u001b[1;33m=\u001b[0m \u001b[0mnp\u001b[0m\u001b[1;33m.\u001b[0m\u001b[0munique\u001b[0m\u001b[1;33m(\u001b[0m\u001b[0mlengths\u001b[0m\u001b[1;33m)\u001b[0m\u001b[1;33m\u001b[0m\u001b[1;33m\u001b[0m\u001b[0m\n\u001b[0;32m    255\u001b[0m     \u001b[1;32mif\u001b[0m \u001b[0mlen\u001b[0m\u001b[1;33m(\u001b[0m\u001b[0muniques\u001b[0m\u001b[1;33m)\u001b[0m \u001b[1;33m>\u001b[0m \u001b[1;36m1\u001b[0m\u001b[1;33m:\u001b[0m\u001b[1;33m\u001b[0m\u001b[1;33m\u001b[0m\u001b[0m\n\u001b[1;32m--> 256\u001b[1;33m         raise ValueError(\"Found input variables with inconsistent numbers of\"\n\u001b[0m\u001b[0;32m    257\u001b[0m                          \" samples: %r\" % [int(l) for l in lengths])\n\u001b[0;32m    258\u001b[0m \u001b[1;33m\u001b[0m\u001b[0m\n",
      "\u001b[1;31mValueError\u001b[0m: Found input variables with inconsistent numbers of samples: [86, 119748]"
     ]
    }
   ],
   "source": [
    "# score model\n",
    "# every time that the score is greater than 0.5, put in class 1, and scores less than 0.5 put in class 0\n",
    "# count every time that prediction is equal to output and divide by total \n",
    "log_reg2.score(SBM_train, labels_train[\"Class\"])"
   ]
  },
  {
   "cell_type": "markdown",
   "metadata": {},
   "source": [
    "Source\n",
    "* https://www.youtube.com/watch?v=HYcXgN9HaTM"
   ]
  }
 ],
 "metadata": {
  "kernelspec": {
   "display_name": "Python 3",
   "language": "python",
   "name": "python3"
  },
  "language_info": {
   "codemirror_mode": {
    "name": "ipython",
    "version": 3
   },
   "file_extension": ".py",
   "mimetype": "text/x-python",
   "name": "python",
   "nbconvert_exporter": "python",
   "pygments_lexer": "ipython3",
   "version": "3.8.3"
  }
 },
 "nbformat": 4,
 "nbformat_minor": 4
}
